{
 "cells": [
  {
   "cell_type": "markdown",
   "id": "3d17be31",
   "metadata": {},
   "source": [
    "# Auto-generated notebook 09_axial_lepton.ipynb"
   ]
  },
  {
   "cell_type": "code",
   "execution_count": null,
   "id": "7b6fda22",
   "metadata": {},
   "outputs": [],
   "source": [
    "\n",
    "import numpy as np, matplotlib.pyplot as plt\n",
    "lept=[\"e\",\"μ\",\"τ\"]\n",
    "m=np.array([0.511,105.7,1777])\n",
    "g2,gY=0.65,0.35\n",
    "Δ=(g2**2-gY**2)*m*1e-3\n",
    "plt.figure(figsize=(3,3))\n",
    "plt.stem(lept,Δ,use_line_collection=True)\n",
    "plt.ylabel(\"Δm₅ [MeV]\")\n",
    "plt.title(\"Axial mass splitting\")\n"
   ]
  }
 ],
 "metadata": {},
 "nbformat": 4,
 "nbformat_minor": 5
}
