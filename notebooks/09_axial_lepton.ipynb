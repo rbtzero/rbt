{
 "cells": [
  {
   "cell_type": "markdown",
   "metadata": {},
   "source": [
    "# Auto-generated 09_axial_lepton.ipynb"
   ]
  },
  {
   "cell_type": "code",
   "execution_count": null,
   "metadata": {},
   "outputs": [],
   "source": [
    "\n",
    "import numpy as np, matplotlib.pyplot as plt\n",
    "lept=['e','μ','τ']\n",
    "m=np.array([0.511,105.66,1776.86])\n",
    "g2,gY=0.651,0.357\n",
    "Δ=1e-3*(g2**2-gY**2)*m\n",
    "plt.figure(figsize=(4,3)); plt.stem(lept,Δ, basefmt=' ', use_line_collection=True)\n",
    "plt.ylabel('Δm₅ [MeV]'); plt.title('RB axial splitting'); plt.ylim(0,max(Δ)*1.2)\n",
    "plt.savefig('../paper/figs/axial_lepton_spectrum.png', dpi=450, bbox_inches='tight')\n"
   ]
  }
 ],
 "metadata": {},
 "nbformat": 4,
 "nbformat_minor": 4
}