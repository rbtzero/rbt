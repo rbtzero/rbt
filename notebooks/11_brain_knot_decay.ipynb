{
 "cells": [
  {
   "cell_type": "markdown",
   "id": "bd2748d2",
   "metadata": {},
   "source": [
    "# Auto-generated 11_brain_knot_decay.ipynb"
   ]
  },
  {
   "cell_type": "code",
   "execution_count": null,
   "id": "b3cfdff4",
   "metadata": {},
   "outputs": [],
   "source": [
    "\n",
    "import numpy as np, matplotlib.pyplot as plt\n",
    "T = np.linspace(0, 10, 1200)\n",
    "Y = np.sin(12*T)*np.exp(-0.4*T)\n",
    "plt.figure(figsize=(6,3))\n",
    "plt.plot(T, Y, lw=1.8)\n",
    "plt.xlabel('t'); plt.ylabel('Amplitude'); plt.title('Brain-knot decay envelope')\n",
    "plt.grid(alpha=0.3)\n",
    "plt.savefig('../paper/figs/brain_knot_decay.png', dpi=450, bbox_inches='tight')\n"
   ]
  }
 ],
 "metadata": {},
 "nbformat": 4,
 "nbformat_minor": 5
}