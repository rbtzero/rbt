{
 "cells": [
  {
   "cell_type": "markdown",
   "metadata": {},
   "source": [
    "# Auto-generated 11_brain_knot_decay.ipynb"
   ]
  },
  {
   "cell_type": "code",
   "execution_count": null,
   "metadata": {},
   "outputs": [],
   "source": [
    "\n",
    "import numpy as np, matplotlib.pyplot as plt\n",
    "T = np.linspace(0, 10, 1200)\n",
    "Y = np.sin(12*T)*np.exp(-0.4*T)\n",
    "plt.figure(figsize=(6,3))\n",
    "plt.plot(T, Y, lw=1.8)\n",
    "plt.xlabel('t'); plt.ylabel('Amplitude'); plt.title('Brain-knot decay envelope')\n",
    "plt.grid(alpha=0.3)\n",
    "plt.savefig('../paper/figs/brain_knot_decay.png', dpi=450, bbox_inches='tight')\n"
   ]
  }
 ],
 "metadata": {},
 "nbformat": 4,
 "nbformat_minor": 4
}