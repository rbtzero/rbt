{
 "cells": [
  {
   "cell_type": "markdown",
   "id": "45ba350c",
   "metadata": {},
   "source": [
    "# Auto-generated notebook 01_branch_lattice.ipynb"
   ]
  },
  {
   "cell_type": "code",
   "execution_count": null,
   "id": "32b534cb",
   "metadata": {},
   "outputs": [],
   "source": [
    "\n",
    "import numpy as np, matplotlib.pyplot as plt\n",
    "from mpl_toolkits.mplot3d import Axes3D\n",
    "\n",
    "depth = 5\n",
    "g = 2\n",
    "paths = np.array([np.array(list(map(int, f\"{k:0{depth}b}\"))) for k in range(g**depth)])\n",
    "prob  = np.full(depth, 1/g)\n",
    "entropy = (-paths * np.log2(prob) - (1-paths) * np.log2(1-prob)).sum(1)\n",
    "\n",
    "fig = plt.figure(figsize=(4,4))\n",
    "ax = fig.add_subplot(111, projection='3d')\n",
    "ax.scatter(paths.sum(1), np.arange(len(paths)), entropy, c=entropy, cmap=\"viridis\", s=12)\n",
    "ax.set_xlabel(\"Hamming weight\")\n",
    "ax.set_ylabel(\"index\")\n",
    "ax.set_zlabel(\"Entropy\")\n"
   ]
  }
 ],
 "metadata": {},
 "nbformat": 4,
 "nbformat_minor": 5
}
