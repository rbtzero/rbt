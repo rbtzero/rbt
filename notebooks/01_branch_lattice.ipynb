{
 "cells": [
  {
   "cell_type": "markdown",
   "metadata": {},
   "source": [
    "# Auto-generated 01_branch_lattice.ipynb"
   ]
  },
  {
   "cell_type": "code",
   "execution_count": null,
   "metadata": {},
   "outputs": [],
   "source": [
    "\n",
    "import numpy as np, matplotlib.pyplot as plt\n",
    "from mpl_toolkits.mplot3d import Axes3D\n",
    "\n",
    "depth = 5\n",
    "g = 2\n",
    "paths = np.array([np.array(list(map(int, f\"{k:0{depth}b}\"))) for k in range(g**depth)])\n",
    "entropy = -(paths*np.log2(paths+1e-9)+(1-paths)*np.log2(1-paths+1e-9)).sum(1)\n",
    "fig = plt.figure(figsize=(5,4))\n",
    "ax = fig.add_subplot(111, projection='3d')\n",
    "ax.scatter(paths.sum(1), np.arange(len(paths)), entropy, c=entropy, cmap='viridis', s=20, edgecolor='k', linewidth=0.2)\n",
    "ax.set_xlabel('Hamming weight'); ax.set_ylabel('index'); ax.set_zlabel('S')\n",
    "plt.savefig('../paper/figs/branch_lattice.png', dpi=450, bbox_inches='tight')\n"
   ]
  }
 ],
 "metadata": {},
 "nbformat": 4,
 "nbformat_minor": 4
}