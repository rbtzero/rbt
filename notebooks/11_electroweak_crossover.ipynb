{
 "cells": [
  {
   "cell_type": "markdown",
   "id": "c00e749f",
   "metadata": {},
   "source": [
    "# Auto-generated notebook 11_electroweak_crossover.ipynb"
   ]
  },
  {
   "cell_type": "code",
   "execution_count": null,
   "id": "dbe17988",
   "metadata": {},
   "outputs": [],
   "source": [
    "\n",
    "import numpy as np, matplotlib.pyplot as plt\n",
    "T=np.linspace(50,300,300)\n",
    "D,E,lam,T0=0.1,0.005,0.125,160\n",
    "phi=np.where(T<T0, np.sqrt(D*(T0**2-T**2)/(2*lam)), 0)\n",
    "plt.figure(figsize=(4,3))\n",
    "plt.plot(T,phi)\n",
    "plt.xlabel(\"T [GeV]\")\n",
    "plt.ylabel(\"⟨φ⟩ [GeV]\")\n",
    "plt.title(\"Electroweak crossover\")\n"
   ]
  }
 ],
 "metadata": {},
 "nbformat": 4,
 "nbformat_minor": 5
}
