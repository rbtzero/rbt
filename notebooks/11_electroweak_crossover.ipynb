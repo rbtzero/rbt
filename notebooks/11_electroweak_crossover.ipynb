{
 "cells": [
  {
   "cell_type": "markdown",
   "id": "55b54d04",
   "metadata": {},
   "source": [
    "# Auto-generated 11_electroweak_crossover.ipynb"
   ]
  },
  {
   "cell_type": "code",
   "execution_count": null,
   "id": "897e0635",
   "metadata": {},
   "outputs": [],
   "source": [
    "\n",
    "import numpy as np, matplotlib.pyplot as plt\n",
    "T=np.linspace(50,300,700)\n",
    "D,E,lam,T0=0.1,0.005,0.125,160\n",
    "phi=np.where(T<T0, np.sqrt(D*(T0**2-T**2)/(2*lam)), 0)\n",
    "plt.figure(figsize=(5,3)); plt.plot(T,phi,lw=2)\n",
    "plt.xlabel('T [GeV]'); plt.ylabel('⟨φ⟩ [GeV]'); plt.title('Electroweak crossover')\n",
    "plt.savefig('../paper/figs/electroweak_crossover.png', dpi=450, bbox_inches='tight')\n"
   ]
  }
 ],
 "metadata": {},
 "nbformat": 4,
 "nbformat_minor": 5
}