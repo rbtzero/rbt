{
 "cells": [
  {
   "cell_type": "markdown",
   "metadata": {},
   "source": ["# Module 0: Persistence Field Evolution", "\n", "Explanation and simple examples."]
  }
 ],
 "metadata": {
  "kernelspec": {
   "name": "python3",
   "display_name": "Python 3"
  },
  "language_info": {
   "name": "python"
  }
 },
 "nbformat": 4,
 "nbformat_minor": 2
}
