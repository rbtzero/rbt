{
 "cells": [
  {
   "cell_type": "markdown",
   "metadata": {},
   "source": [
    "# Wave\u2011speed validation"
   ]
  },
  {
   "cell_type": "code",
   "metadata": {},
   "execution_count": null,
   "outputs": [],
   "source": [
    "print('placeholder')"
   ]
  },
  {
   "cell_type": "code",
   "metadata": {},
   "source": [
    "import matplotlib.pyplot as _plt, pathlib, os\n",
    "root = pathlib.Path(__file__).resolve().parents[1]\n",
    "plt.gcf().savefig((root/'paper'/'figs'/'wave_speed.png').as_posix(), bbox_inches='tight', dpi=300)\n"
   ],
   "outputs": [],
   "execution_count": null
  }
 ],
 "metadata": {},
 "nbformat": 4,
 "nbformat_minor": 5
}