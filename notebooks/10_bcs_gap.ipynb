{
 "cells": [
  {
   "cell_type": "markdown",
   "id": "a47d691b",
   "metadata": {},
   "source": [
    "# Auto-generated notebook 10_bcs_gap.ipynb"
   ]
  },
  {
   "cell_type": "code",
   "execution_count": null,
   "id": "2fdf64d8",
   "metadata": {},
   "outputs": [],
   "source": [
    "\n",
    "import numpy as np, matplotlib.pyplot as plt\n",
    "Tc=9\n",
    "T=np.linspace(0.1,Tc,400)\n",
    "Δ0=1.76*Tc\n",
    "Δ=Δ0*np.tanh(1.74*np.sqrt(Tc/T-1))\n",
    "plt.figure(figsize=(4,3))\n",
    "plt.plot(T,Δ)\n",
    "plt.xlabel(\"T [K]\")\n",
    "plt.ylabel(\"Δ [meV]\")\n",
    "plt.title(\"BCS gap (RB mapping)\")\n"
   ]
  }
 ],
 "metadata": {},
 "nbformat": 4,
 "nbformat_minor": 5
}
