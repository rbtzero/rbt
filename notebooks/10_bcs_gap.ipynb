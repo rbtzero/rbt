{
 "cells": [
  {
   "cell_type": "markdown",
   "metadata": {},
   "source": [
    "# Auto-generated 10_bcs_gap.ipynb"
   ]
  },
  {
   "cell_type": "code",
   "execution_count": null,
   "metadata": {},
   "outputs": [],
   "source": [
    "\n",
    "import numpy as np, matplotlib.pyplot as plt\n",
    "Tc=9\n",
    "T=np.linspace(0.1,Tc,800)\n",
    "Δ0=1.76*Tc\n",
    "Δ=Δ0*np.tanh(1.74*np.sqrt(Tc/T-1))\n",
    "plt.figure(figsize=(5,3)); plt.plot(T,Δ,lw=2)\n",
    "plt.xlabel('T [K]'); plt.ylabel('Δ [meV]'); plt.title('BCS gap from RB mapping')\n",
    "plt.savefig('../paper/figs/bcs_gap.png', dpi=450, bbox_inches='tight')\n"
   ]
  }
 ],
 "metadata": {},
 "nbformat": 4,
 "nbformat_minor": 4
}