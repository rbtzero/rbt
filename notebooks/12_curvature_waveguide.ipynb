{
 "cells": [
  {
   "cell_type": "markdown",
   "id": "50f8103c",
   "metadata": {},
   "source": [
    "# Auto-generated 12_curvature_waveguide.ipynb"
   ]
  },
  {
   "cell_type": "code",
   "execution_count": null,
   "id": "2dfe90f5",
   "metadata": {},
   "outputs": [],
   "source": [
    "\n",
    "import numpy as np, matplotlib.pyplot as plt\n",
    "N=500\n",
    "x,y = np.linspace(-4,4,N), np.linspace(-4,4,N)\n",
    "X,Y = np.meshgrid(x,y)\n",
    "K = np.cos(0.5*X)*np.sin(0.5*Y)\n",
    "plt.figure(figsize=(5,4))\n",
    "img=plt.imshow(K, origin='lower', extent=[-4,4,-4,4], cmap='coolwarm')\n",
    "plt.colorbar(img, label='Gaussian curvature κ')\n",
    "plt.xlabel('x'); plt.ylabel('y'); plt.title('Curvature wave-guide')\n",
    "plt.savefig('../paper/figs/curvature_waveguide.png', dpi=450, bbox_inches='tight')\n"
   ]
  }
 ],
 "metadata": {},
 "nbformat": 4,
 "nbformat_minor": 5
}