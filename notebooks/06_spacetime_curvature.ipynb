{
 "cells": [
  {
   "cell_type": "markdown",
   "metadata": {},
   "source": [
    "# Auto-generated 06_spacetime_curvature.ipynb"
   ]
  },
  {
   "cell_type": "code",
   "execution_count": null,
   "metadata": {},
   "outputs": [],
   "source": [
    "\n",
    "import numpy as np, matplotlib.pyplot as plt\n",
    "N=400\n",
    "x,y=np.meshgrid(np.linspace(-4,4,N), np.linspace(-4,4,N))\n",
    "R = 4*np.exp(-(x**2+y**2)/2)\n",
    "plt.figure(figsize=(5,4))\n",
    "img=plt.imshow(R, origin='lower', extent=[-4,4,-4,4], cmap='inferno', vmax=R.max())\n",
    "plt.colorbar(img, label='Ricci scalar R')\n",
    "plt.contour(x,y,R,[0.5,1,2],colors='w',linewidths=0.4)\n",
    "plt.xlabel('x'); plt.ylabel('y'); plt.title('RB curvature bump')\n",
    "plt.savefig('../paper/figs/spacetime_curvature.png', dpi=450, bbox_inches='tight')\n"
   ]
  }
 ],
 "metadata": {},
 "nbformat": 4,
 "nbformat_minor": 4
}