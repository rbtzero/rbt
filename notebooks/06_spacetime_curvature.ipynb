{
 "cells": [
  {
   "cell_type": "markdown",
   "id": "0732636e",
   "metadata": {},
   "source": [
    "# Auto-generated notebook 06_spacetime_curvature.ipynb"
   ]
  },
  {
   "cell_type": "code",
   "execution_count": null,
   "id": "e0f1887a",
   "metadata": {},
   "outputs": [],
   "source": [
    "\n",
    "import numpy as np, matplotlib.pyplot as plt\n",
    "N=50\n",
    "x,y = np.meshgrid(np.linspace(-2,2,N), np.linspace(-2,2,N))\n",
    "R = 2*np.exp(-(x**2+y**2))\n",
    "plt.figure(figsize=(4,3))\n",
    "plt.imshow(R, origin=\"lower\", extent=[-2,2,-2,2], cmap=\"inferno\")\n",
    "plt.colorbar(label=\"Ricci scalar R\")\n",
    "plt.title(\"RB discrete curvature\")\n"
   ]
  }
 ],
 "metadata": {},
 "nbformat": 4,
 "nbformat_minor": 5
}
