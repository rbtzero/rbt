{
 "cells": [
  {
   "cell_type": "markdown",
   "id": "ade9811a",
   "metadata": {},
   "source": [
    "# Auto-generated 04_coupling_fan_in.ipynb"
   ]
  },
  {
   "cell_type": "code",
   "execution_count": null,
   "id": "2c12027e",
   "metadata": {},
   "outputs": [],
   "source": [
    "\n",
    "import numpy as np, matplotlib.pyplot as plt\n",
    "from scipy.constants import pi\n",
    "β = np.array([-7, -19/6, 41/10])\n",
    "E  = np.logspace(2, 17, 1500)\n",
    "α0 = np.array([1/59.0, 1/29.6, 1/8.5])\n",
    "α = 1/(1/α0[:,None] - β[:,None]/(2*pi)*np.log(E/91.19))\n",
    "fig, ax = plt.subplots(figsize=(5,3.5))\n",
    "for i,lbl in enumerate(['α₃⁻¹','α₂⁻¹','α₁⁻¹']):\n",
    "    ax.plot(E, 1/α[i], lw=2, label=lbl)\n",
    "ax.set_xscale('log'); ax.set_xlim(1e2,1e17)\n",
    "ax.set_xlabel('Energy [GeV]'); ax.set_ylabel('α⁻¹'); ax.legend()\n",
    "fig.savefig('../paper/figs/coupling_fan_in.png', dpi=450, bbox_inches='tight')\n"
   ]
  }
 ],
 "metadata": {},
 "nbformat": 4,
 "nbformat_minor": 5
}