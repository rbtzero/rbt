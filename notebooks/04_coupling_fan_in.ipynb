{
 "cells": [
  {
   "cell_type": "markdown",
   "id": "dc2b6fed",
   "metadata": {},
   "source": [
    "# Auto-generated notebook 04_coupling_fan_in.ipynb"
   ]
  },
  {
   "cell_type": "code",
   "execution_count": null,
   "id": "d78c444b",
   "metadata": {},
   "outputs": [],
   "source": [
    "\n",
    "import numpy as np, matplotlib.pyplot as plt\n",
    "b = np.array([-7, -19/6, 41/10])\n",
    "E  = np.logspace(2, 16, 300)\n",
    "alpha0 = np.array([1/60, 1/30, 1/10])\n",
    "alpha  = 1/(1/alpha0[:,None] - b[:,None]/(2*np.pi)*np.log(E/100))\n",
    "fig, ax = plt.subplots(figsize=(4,3))\n",
    "labels=[\"α₃⁻¹\",\"α₂⁻¹\",\"α₁⁻¹\"]\n",
    "for i in range(3):\n",
    "    ax.plot(E, 1/alpha[i], label=labels[i])\n",
    "ax.set_xscale(\"log\")\n",
    "ax.set_xlabel(\"Energy [GeV]\")\n",
    "ax.set_ylabel(\"α⁻¹\")\n",
    "ax.legend()\n",
    "ax.set_title(\"Gauge-coupling fan-in\")\n"
   ]
  }
 ],
 "metadata": {},
 "nbformat": 4,
 "nbformat_minor": 5
}
