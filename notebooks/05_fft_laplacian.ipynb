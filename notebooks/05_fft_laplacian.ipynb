{
 "cells": [
  {
   "cell_type": "markdown",
   "metadata": {},
   "source": [
    "# FFT Laplacian demo\n",
    "Verify the 3-D spectral Laplacian and show the FD error."
   ]
  },
  {
   "cell_type": "code",
   "execution_count": null,
   "metadata": {},
   "outputs": [],
   "source": [
    "import numpy as np, matplotlib.pyplot as plt\n",
    "from splitstep_toe.core.fft import laplacian_fft\n",
    "from splitstep_toe.core.laplacian import laplacian_2d\n",
    "\n",
    "# smooth sin field --------------------------------------------------\n",
    "nx = ny = nz = 64\n",
    "L = 2 * np.pi\n",
    "x = np.linspace(0, L, nx, endpoint=False)\n",
    "y = np.linspace(0, L, ny, endpoint=False)\n",
    "z = np.linspace(0, L, nz, endpoint=False)\n",
    "X, Y, Z = np.meshgrid(x, y, z, indexing=\"ij\")\n",
    "f = np.sin(2*X) * np.sin(3*Y) * np.sin(5*Z)\n",
    "\n",
    "# compare a central z-slice -----------------------------------------\n",
    "lap_fft = laplacian_fft(f, h=L/nx)[nz//2]\n",
    "lap_fd  = laplacian_2d(f[nz//2], h=L/nx)\n",
    "\n",
    "plt.figure(figsize=(5,4))\n",
    "plt.imshow(lap_fft - lap_fd, cmap=\"seismic\", vmin=-1e-2, vmax=1e-2)\n",
    "plt.colorbar(label=\"FFT – FD error\")\n",
    "plt.title(\"Spectral vs finite-difference error (slice)\")\n",
    "plt.tight_layout()\n",
    "plt.savefig(\"../paper/figs/fft_error.png\", dpi=120)\n"
   ]
  },
  {
   "cell_type": "markdown",
   "metadata": {},
   "source": [
    "## Timing"
   ]
  },
  {
   "cell_type": "code",
   "execution_count": null,
   "metadata": {},
   "outputs": [],
   "source": [
    "import time, pandas as pd\n",
    "rows = []\n",
    "for n in [32, 64, 128]:\n",
    "    a = np.random.default_rng(0).standard_normal((n,n,n))\n",
    "    t0 = time.perf_counter(); laplacian_fft(a); t1 = time.perf_counter()\n",
    "    rows.append({\"N^3\": n, \"t_fft [s]\": t1 - t0})\n",
    "pd.DataFrame(rows)"
   ]
  }
 ],
 "metadata": {
  "kernelspec": {
   "display_name": "python",
   "language": "python",
   "name": "python3"
  },
  "language_info": {
   "name": "python",
   "version": "3.10"
  }
 },
 "nbformat": 4,
 "nbformat_minor": 5
}
