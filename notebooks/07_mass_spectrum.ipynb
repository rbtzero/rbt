{
 "cells": [
  {
   "cell_type": "markdown",
   "id": "6ac0d5ea",
   "metadata": {},
   "source": [
    "# Auto-generated 07_mass_spectrum.ipynb"
   ]
  },
  {
   "cell_type": "code",
   "execution_count": null,
   "id": "c0787ba0",
   "metadata": {},
   "outputs": [],
   "source": [
    "\n",
    "import numpy as np, matplotlib.pyplot as plt\n",
    "pdg={'e':0.511,'μ':105.66,'τ':1776.86,'u':2.16,'d':4.67,'s':93,'c':1270,'b':4180,'t':172760}\n",
    "ledger_index={k:i for i,k in enumerate(pdg)}\n",
    "m0=2e5\n",
    "rb={k:m0*2**(-Δ) for k,Δ in ledger_index.items()}\n",
    "keys=list(pdg)\n",
    "x=np.arange(len(keys))\n",
    "fig,ax=plt.subplots(figsize=(7,3.5))\n",
    "ax.bar(x-0.2,[pdg[k] for k in keys],0.4,label='PDG',color='#377eb8')\n",
    "ax.bar(x+0.2,[rb[k]  for k in keys],0.4,label='RB',color='#e41a1c')\n",
    "ax.set_yscale('log'); ax.set_xticks(x,keys); ax.set_ylabel('mass [MeV]'); ax.legend()\n",
    "fig.savefig('../paper/figs/mass_spectrum.png', dpi=450, bbox_inches='tight')\n"
   ]
  }
 ],
 "metadata": {},
 "nbformat": 4,
 "nbformat_minor": 5
}