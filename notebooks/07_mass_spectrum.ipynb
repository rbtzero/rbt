{
 "cells": [
  {
   "cell_type": "markdown",
   "id": "3f4b472c",
   "metadata": {},
   "source": [
    "# Auto-generated notebook 07_mass_spectrum.ipynb"
   ]
  },
  {
   "cell_type": "code",
   "execution_count": null,
   "id": "d98de1fb",
   "metadata": {},
   "outputs": [],
   "source": [
    "\n",
    "import numpy as np, matplotlib.pyplot as plt\n",
    "pdg = {\"e\":0.511, \"μ\":105.7, \"τ\":1777, \"u\":2.3, \"d\":4.8, \"s\":95, \"c\":1270, \"b\":4180, \"t\":172000}\n",
    "ledger = {k:i for i,k in enumerate(pdg.keys())}\n",
    "m0 = 200000\n",
    "rb = {k:m0*2**(-Δ) for k,Δ in ledger.items()}\n",
    "keys=list(pdg.keys())\n",
    "x=np.arange(len(keys))\n",
    "plt.figure(figsize=(5,3))\n",
    "plt.bar(x-0.2,[pdg[k] for k in keys],0.4,label=\"PDG\")\n",
    "plt.bar(x+0.2,[rb[k] for k in keys],0.4,label=\"RB\")\n",
    "plt.yscale(\"log\")\n",
    "plt.xticks(x,keys)\n",
    "plt.ylabel(\"mass [MeV]\")\n",
    "plt.legend()\n",
    "plt.title(\"Quark & lepton masses\")\n"
   ]
  }
 ],
 "metadata": {},
 "nbformat": 4,
 "nbformat_minor": 5
}
