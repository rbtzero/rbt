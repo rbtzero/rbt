{
 "cells": [
  {
   "cell_type": "markdown",
   "id": "b9709edf",
   "metadata": {},
   "source": [
    "# Auto-generated notebook 13_lattice_colony.ipynb"
   ]
  },
  {
   "cell_type": "code",
   "execution_count": null,
   "id": "da13b2f4",
   "metadata": {},
   "outputs": [],
   "source": [
    "\n",
    "import numpy as np, matplotlib.pyplot as plt\n",
    "from mpl_toolkits.mplot3d import Axes3D\n",
    "# torus geometry\n",
    "\u03b8=np.linspace(0,2*np.pi,200)\n",
    "\u03c6=np.linspace(0,2*np.pi,200)\n",
    "\u0398,\u03a6=np.meshgrid(\u03b8,\u03c6)\n",
    "R,r=3,1\n",
    "X=(R+r*np.cos(\u0398))*np.cos(\u03a6)\n",
    "Y=(R+r*np.cos(\u0398))*np.sin(\u03a6)\n",
    "Z=r*np.sin(\u0398)\n",
    "fig=plt.figure(figsize=(3,3))\n",
    "ax=fig.add_subplot(111,projection='3d')\n",
    "ax.plot_surface(X,Y,Z,color='c',alpha=0.6,linewidth=0)\n",
    "ax.set_axis_off()\n",
    "# growth curve\n",
    "n=np.arange(1,30)\n",
    "colony=1-2**(-n)\n",
    "plt.figure()\n",
    "plt.plot(n,colony,'o-')\n",
    "plt.xlabel(\"tick\")\n",
    "plt.ylabel(\"colony fraction\")\n",
    "# colony final state heatmap\n",
    "plt.figure()\n",
    "plt.imshow(np.outer(colony,colony[::-1]),cmap=\"plasma\")\n",
    "plt.axis(\"off\")\n",
    "# logistic heatmap\n",
    "\u03bc=np.linspace(2.5,4.0,600)\n",
    "x0=0.2\n",
    "its=400\n",
    "last=100\n",
    "img=np.zeros((len(\u03bc),last))\n",
    "for i,m in enumerate(\u03bc):\n",
    "    x=x0\n",
    "    for _ in range(its): x=m*x*(1-x)\n",
    "    for k in range(last):\n",
    "        x=m*x*(1-x)\n",
    "        img[i,k]=x\n",
    "plt.figure(figsize=(4,3))\n",
    "plt.imshow(img,origin=\"lower\",aspect='auto',extent=[0,last,2.5,4.0],cmap=\"inferno\")\n",
    "plt.xlabel(\"iteration\")\n",
    "plt.ylabel(\"\u03bc\")\n",
    "# knot decay\n",
    "t=np.linspace(0,10,200)\n",
    "E=np.exp(-t)\n",
    "plt.figure()\n",
    "plt.semilogy(t,E)\n",
    "plt.xlabel(\"time [s]\")\n",
    "plt.ylabel(\"E(t)\")\n",
    "plt.title(\"\u03b3-band knot decay\")\n"
   ]
  },
  {
   "cell_type": "code",
   "metadata": {},
   "source": [
    "import matplotlib.pyplot as _plt, pathlib, os\n",
    "root = pathlib.Path(__file__).resolve().parents[1]\n",
    "plt.gcf().savefig((root/'paper'/'figs'/'lattice_torus_geometry.png').as_posix(), bbox_inches='tight', dpi=300)\n",
    "plt.gcf().savefig((root/'paper'/'figs'/'lattice_growth_curve.png').as_posix(), bbox_inches='tight', dpi=300)\n",
    "plt.gcf().savefig((root/'paper'/'figs'/'lattice_colony.png').as_posix(), bbox_inches='tight', dpi=300)\n"
   ],
   "outputs": [],
   "execution_count": null
  }
 ],
 "metadata": {},
 "nbformat": 4,
 "nbformat_minor": 5
}