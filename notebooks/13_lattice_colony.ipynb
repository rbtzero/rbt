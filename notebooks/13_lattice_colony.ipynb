{
 "cells": [
  {
   "cell_type": "markdown",
   "id": "dab589a4",
   "metadata": {},
   "source": [
    "# Auto-generated 13_lattice_colony.ipynb"
   ]
  },
  {
   "cell_type": "code",
   "execution_count": null,
   "id": "0780caf6",
   "metadata": {},
   "outputs": [],
   "source": [
    "\n",
    "import numpy as np, matplotlib.pyplot as plt\n",
    "from mpl_toolkits.mplot3d import Axes3D\n",
    "# ---------------- lattice_torus_geometry ----------------\n",
    "θ,φ = np.linspace(0,2*np.pi,200), np.linspace(0,2*np.pi,200)\n",
    "Θ,Φ = np.meshgrid(θ,φ); R,r = 3,1\n",
    "X=(R+r*np.cos(Θ))*np.cos(Φ); Y=(R+r*np.cos(Θ))*np.sin(Φ); Z=r*np.sin(Θ)\n",
    "fig = plt.figure(figsize=(4,4)); ax = fig.add_subplot(111,projection='3d')\n",
    "ax.plot_surface(X,Y,Z,color='#66c2a5',alpha=0.7,linewidth=0)\n",
    "ax.set_axis_off()\n",
    "fig.savefig('../paper/figs/lattice_torus_geometry.png',dpi=450,bbox_inches='tight')\n",
    "plt.close(fig)\n",
    "# ---------------- lattice_growth_curve ----------------\n",
    "n = np.arange(1,40)\n",
    "colony = 1 - 2.0**(-n)\n",
    "plt.figure(figsize=(4,3))\n",
    "plt.plot(n,colony,'o-',color='#fc8d62')\n",
    "plt.xlabel('tick'); plt.ylabel('colony fraction')\n",
    "plt.title('RB lattice-colony growth'); plt.ylim(0,1)\n",
    "plt.savefig('../paper/figs/lattice_growth_curve.png',dpi=450,bbox_inches='tight')\n",
    "plt.close()\n",
    "# ---------------- lattice_colony ----------------\n",
    "N = 128\n",
    "state = np.zeros((N,N))\n",
    "state[N//2,N//2] = 1\n",
    "for _ in range(10):\n",
    "    state = np.maximum(state, np.roll(state,1,0))\n",
    "    state = np.maximum(state, np.roll(state,-1,0))\n",
    "    state = np.maximum(state, np.roll(state,1,1))\n",
    "    state = np.maximum(state, np.roll(state,-1,1))\n",
    "plt.figure(figsize=(4,4))\n",
    "plt.imshow(state,cmap='plasma')\n",
    "plt.axis('off'); plt.title('Colony after 10 ticks')\n",
    "plt.savefig('../paper/figs/lattice_colony.png',dpi=450,bbox_inches='tight')\n"
   ]
  }
 ],
 "metadata": {},
 "nbformat": 4,
 "nbformat_minor": 5
}