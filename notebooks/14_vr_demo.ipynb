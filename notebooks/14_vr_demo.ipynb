{
 "cells": [
  {
   "cell_type": "markdown",
   "metadata": {},
   "source": [
    "# Auto-generated 14_vr_demo.ipynb"
   ]
  },
  {
   "cell_type": "code",
   "execution_count": null,
   "metadata": {},
   "outputs": [],
   "source": [
    "\n",
    "import numpy as np, matplotlib.pyplot as plt\n",
    "from mpl_toolkits.mplot3d import Axes3D\n",
    "np.random.seed(0)\n",
    "pts=np.random.standard_normal((3,2000))\n",
    "fig = plt.figure(figsize=(5,4)); ax = fig.add_subplot(111, projection='3d')\n",
    "ax.scatter(pts[0], pts[1], pts[2], s=3, alpha=0.6)\n",
    "ax.set_xlabel('x'); ax.set_ylabel('y'); ax.set_zlabel('z'); ax.set_title('VR demo point-cloud')\n",
    "plt.savefig('../paper/figs/vr_demo.png', dpi=450, bbox_inches='tight')\n"
   ]
  }
 ],
 "metadata": {},
 "nbformat": 4,
 "nbformat_minor": 4
}