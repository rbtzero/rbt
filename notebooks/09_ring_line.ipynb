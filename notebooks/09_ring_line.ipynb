{
 "cells": [
  {
   "cell_type": "markdown",
   "id": "6054c2c0",
   "metadata": {},
   "source": [
    "# Auto-generated 09_ring_line.ipynb"
   ]
  },
  {
   "cell_type": "code",
   "execution_count": null,
   "id": "873cf219",
   "metadata": {},
   "outputs": [],
   "source": [
    "\n",
    "import numpy as np, matplotlib.pyplot as plt, math, scipy.constants as const\n",
    "E0=3.54; γ=0.006\n",
    "E=np.linspace(E0-0.05,E0+0.05,800)\n",
    "L = 1/(math.pi*γ*(1+((E-E0)/γ)**2))\n",
    "plt.figure(figsize=(5,3)); plt.plot(E,L,lw=2)\n",
    "plt.xlabel('Energy [keV]'); plt.ylabel('Intensity (arb)')\n",
    "plt.title('Predicted RB 3.54 keV aperture line')\n",
    "plt.savefig('../paper/figs/ring_aperture_line.png', dpi=450, bbox_inches='tight')\n"
   ]
  }
 ],
 "metadata": {},
 "nbformat": 4,
 "nbformat_minor": 5
}