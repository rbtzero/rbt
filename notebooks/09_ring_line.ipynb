{
 "cells": [
  {
   "cell_type": "markdown",
   "id": "3d75aaf0",
   "metadata": {},
   "source": [
    "# Auto-generated notebook 09_ring_line.ipynb"
   ]
  },
  {
   "cell_type": "code",
   "execution_count": null,
   "id": "78c8082d",
   "metadata": {},
   "outputs": [],
   "source": [
    "\n",
    "import numpy as np, matplotlib.pyplot as plt\n",
    "E0=3.54\n",
    "gamma=0.006\n",
    "E=np.linspace(E0-0.05,E0+0.05,400)\n",
    "L=1/(np.pi*gamma*(1+((E-E0)/gamma)**2))\n",
    "plt.figure(figsize=(4,3))\n",
    "plt.plot(E,L)\n",
    "plt.xlabel(\"Energy [keV]\")\n",
    "plt.ylabel(\"Intensity (arb)\")\n",
    "plt.title(\"RB predicted aperture line\")\n"
   ]
  }
 ],
 "metadata": {},
 "nbformat": 4,
 "nbformat_minor": 5
}
