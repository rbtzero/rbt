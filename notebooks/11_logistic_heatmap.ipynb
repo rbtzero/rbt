{
 "cells": [
  {
   "cell_type": "markdown",
   "id": "75c82c0a",
   "metadata": {},
   "source": [
    "# Auto-generated 11_logistic_heatmap.ipynb"
   ]
  },
  {
   "cell_type": "code",
   "execution_count": null,
   "id": "e9168add",
   "metadata": {},
   "outputs": [],
   "source": [
    "\n",
    "import numpy as np, matplotlib.pyplot as plt\n",
    "r = np.linspace(2.5,4,800)\n",
    "x0 = np.linspace(0,1,800)\n",
    "R,X = np.meshgrid(r,x0)\n",
    "\n",
    "def iterate(x,r,n=200):\n",
    "    for _ in range(n):\n",
    "        x = r*x*(1-x)\n",
    "    return x\n",
    "Z = iterate(X, R)\n",
    "plt.figure(figsize=(6,4))\n",
    "plt.imshow(Z, extent=[r.min(),r.max(),x0.min(),x0.max()], aspect='auto', origin='lower', cmap='plasma')\n",
    "plt.xlabel('r'); plt.ylabel('$x_0$'); plt.title('Logistic-map heat-map')\n",
    "plt.colorbar(label='$x_{n}$')\n",
    "plt.savefig('../paper/figs/logistic_heatmap.png', dpi=450, bbox_inches='tight')\n"
   ]
  }
 ],
 "metadata": {},
 "nbformat": 4,
 "nbformat_minor": 5
}